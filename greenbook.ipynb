{
 "cells": [
  {
   "cell_type": "code",
   "execution_count": 1,
   "metadata": {},
   "outputs": [],
   "source": [
    "import pandas as pd"
   ]
  },
  {
   "cell_type": "code",
   "execution_count": 2,
   "metadata": {},
   "outputs": [],
   "source": [
    "full_data = pd.read_csv('forecasts.csv')"
   ]
  },
  {
   "cell_type": "code",
   "execution_count": 4,
   "metadata": {},
   "outputs": [
    {
     "data": {
      "text/plain": [
       "Index(['Date', '2019Q2', '2019Q1', '2018Q4', '2018Q3', '2018Q2', '2018Q1',\n",
       "       '2017Q4', '2017Q3', '2017Q2', '2017Q1', '2016Q4', '2016Q3', '2016Q2',\n",
       "       '2016Q1', '2015Q4', '2015Q3', '2015Q2', '2015Q1', '2014Q4', '2014Q3',\n",
       "       '2014Q2', '2014Q1', '2013Q4', '2013Q3', '2013Q2', '2013Q1', '2012Q4',\n",
       "       '2012Q3', '2012Q2', '2012Q1', '2011Q4', '2011Q3', '2011Q2', '2011Q1',\n",
       "       '2010Q4', '2010Q3', '2010Q2', '2010Q1', '2009Q4', '2009Q3', '2009Q2',\n",
       "       '2009Q1', '2008Q4', '2008Q3', '2008Q2', '2008Q1', '2007Q4', '2007Q3',\n",
       "       '2007Q2', '2007Q1', '2006Q4', '2006Q3', '2006Q2', '2006Q1', '2005Q4',\n",
       "       '2005Q3', '2005Q2', '2005Q1', '2004Q4', '2004Q3', '2004Q2', '2004Q1',\n",
       "       '2003Q4', '2003Q3', '2003Q2', '2003Q1', '2002Q4', '2002Q3', '2002Q2',\n",
       "       '2002Q1', '2001Q4', '2001Q3', '2001Q2'],\n",
       "      dtype='object')"
      ]
     },
     "execution_count": 4,
     "metadata": {},
     "output_type": "execute_result"
    }
   ],
   "source": [
    "full_data.columns"
   ]
  },
  {
   "cell_type": "code",
   "execution_count": 15,
   "metadata": {},
   "outputs": [],
   "source": [
    "quarter = '2001Q3'\n",
    "\n",
    "quarter_slice = full_data[['Date', quarter]].dropna().reset_index(drop=True)\n",
    "quarter_slice.columns = ['Date', 'Data']"
   ]
  },
  {
   "cell_type": "code",
   "execution_count": 16,
   "metadata": {},
   "outputs": [
    {
     "data": {
      "text/html": [
       "<div>\n",
       "<style scoped>\n",
       "    .dataframe tbody tr th:only-of-type {\n",
       "        vertical-align: middle;\n",
       "    }\n",
       "\n",
       "    .dataframe tbody tr th {\n",
       "        vertical-align: top;\n",
       "    }\n",
       "\n",
       "    .dataframe thead th {\n",
       "        text-align: right;\n",
       "    }\n",
       "</style>\n",
       "<table border=\"1\" class=\"dataframe\">\n",
       "  <thead>\n",
       "    <tr style=\"text-align: right;\">\n",
       "      <th></th>\n",
       "      <th>Date</th>\n",
       "      <th>Data</th>\n",
       "    </tr>\n",
       "  </thead>\n",
       "  <tbody>\n",
       "    <tr>\n",
       "      <th>0</th>\n",
       "      <td>9/30/02</td>\n",
       "      <td>3.9</td>\n",
       "    </tr>\n",
       "    <tr>\n",
       "      <th>1</th>\n",
       "      <td>6/30/02</td>\n",
       "      <td>3.0</td>\n",
       "    </tr>\n",
       "    <tr>\n",
       "      <th>2</th>\n",
       "      <td>3/31/02</td>\n",
       "      <td>2.7</td>\n",
       "    </tr>\n",
       "    <tr>\n",
       "      <th>3</th>\n",
       "      <td>12/31/01</td>\n",
       "      <td>2.8</td>\n",
       "    </tr>\n",
       "    <tr>\n",
       "      <th>4</th>\n",
       "      <td>9/30/01</td>\n",
       "      <td>1.2</td>\n",
       "    </tr>\n",
       "  </tbody>\n",
       "</table>\n",
       "</div>"
      ],
      "text/plain": [
       "       Date  Data\n",
       "0   9/30/02   3.9\n",
       "1   6/30/02   3.0\n",
       "2   3/31/02   2.7\n",
       "3  12/31/01   2.8\n",
       "4   9/30/01   1.2"
      ]
     },
     "execution_count": 16,
     "metadata": {},
     "output_type": "execute_result"
    }
   ],
   "source": [
    "quarter_slice"
   ]
  },
  {
   "cell_type": "code",
   "execution_count": 17,
   "metadata": {},
   "outputs": [],
   "source": [
    "quarter_slice.to_csv('quarter_slice.csv', index=False)"
   ]
  },
  {
   "cell_type": "code",
   "execution_count": null,
   "metadata": {},
   "outputs": [],
   "source": [
    "load(\"http.star\", \"http\")\n",
    "load(\"encoding/csv.star\", \"csv\")\n",
    "load(\"zipfile.star\", \"ZipFile\")\n",
    "load(\"qri.star\", \"qri\")\n",
    "\n",
    "def download(ctx):\n",
    "    # perform an HTTP GET request to greenbook data I have saved on github\n",
    "    res = http.get(\"https://raw.githubusercontent.com/charleyferrari/greenbook/master/quarter_slice.csv\")\n",
    "    return res.body()\n",
    "\n",
    "def transform(ds, ctx):\n",
    "    rawCsvData = ctx.download\n",
    "\n",
    "    parsedCsv = csv.read_all(rawCsvData, lazy_quotes=True, fields_per_record=-1)\n",
    "\n",
    "    csvString = csv.write_all(parsedCsv)\n",
    "\n",
    "    ds.set_body(csvString, raw=True, data_format='csv')"
   ]
  }
 ],
 "metadata": {
  "kernelspec": {
   "display_name": "venv3",
   "language": "python",
   "name": "venv3"
  },
  "language_info": {
   "codemirror_mode": {
    "name": "ipython",
    "version": 3
   },
   "file_extension": ".py",
   "mimetype": "text/x-python",
   "name": "python",
   "nbconvert_exporter": "python",
   "pygments_lexer": "ipython3",
   "version": "3.6.5"
  }
 },
 "nbformat": 4,
 "nbformat_minor": 2
}
